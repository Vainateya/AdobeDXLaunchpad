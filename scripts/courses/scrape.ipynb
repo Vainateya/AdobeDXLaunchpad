{
 "cells": [
  {
   "cell_type": "code",
   "execution_count": 1,
   "metadata": {},
   "outputs": [],
   "source": [
    "import requests\n",
    "from bs4 import BeautifulSoup\n",
    "import re\n",
    "\n",
    "from AdobeDXLaunchpad.courses.utils import *"
   ]
  },
  {
   "cell_type": "code",
   "execution_count": 2,
   "metadata": {},
   "outputs": [],
   "source": [
    "r = requests.get('https://certification.adobe.com/courses/1050')\n",
    "soup = BeautifulSoup(r.content, 'html.parser')"
   ]
  },
  {
   "cell_type": "code",
   "execution_count": 3,
   "metadata": {},
   "outputs": [],
   "source": [
    "def clean(s):\n",
    "    return re.sub(r'\\s+', ' ', s).strip()"
   ]
  },
  {
   "cell_type": "code",
   "execution_count": 4,
   "metadata": {},
   "outputs": [
    {
     "data": {
      "text/plain": [
       "('Adobe Analytics',\n",
       " 'Foundations',\n",
       " 'All',\n",
       " 'ANA-ALL100',\n",
       " '0',\n",
       " '1 hour 15 minutes',\n",
       " '5')"
      ]
     },
     "execution_count": 4,
     "metadata": {},
     "output_type": "execute_result"
    }
   ],
   "source": [
    "div = soup.find('div', class_='table-responsive mb-0 mb-xl-4')\n",
    "rows = div.find('tbody').find('tr').find_all('td')\n",
    "\n",
    "application = clean(rows[0].text)\n",
    "level = clean(rows[1].text)\n",
    "job_role = clean(rows[2].text)\n",
    "course_number = clean(rows[3].text)\n",
    "points = clean(rows[4].text)\n",
    "time = clean(rows[5].text)\n",
    "num_modules = clean(rows[6].text)\n",
    "\n",
    "application, level, job_role, course_number, points, time, num_modules"
   ]
  },
  {
   "cell_type": "code",
   "execution_count": 6,
   "metadata": {},
   "outputs": [
    {
     "name": "stderr",
     "output_type": "stream",
     "text": [
      "C:\\Users\\reach\\AppData\\Local\\Temp\\ipykernel_13564\\2792417883.py:1: DeprecationWarning: The 'text' argument to find()-type methods is deprecated. Use 'string' instead.\n",
      "  course_objectives = soup.find('h4', text='Course objectives').find_next_sibling().string\n"
     ]
    },
    {
     "data": {
      "text/plain": [
       "'This course is an introduction to Adobe Analytics. You will learn the basics of digital analytics, how Analysis Workspace can be used for analysis and data visualization, typical use cases and product features. Additional reference information and certification resources are also provided.'"
      ]
     },
     "execution_count": 6,
     "metadata": {},
     "output_type": "execute_result"
    }
   ],
   "source": [
    "course_objectives = soup.find('h4', text='Course objectives').find_next_sibling().string\n",
    "course_objectives"
   ]
  },
  {
   "cell_type": "code",
   "execution_count": 43,
   "metadata": {},
   "outputs": [
    {
     "ename": "NameError",
     "evalue": "name 'Module' is not defined",
     "output_type": "error",
     "traceback": [
      "\u001b[1;31m---------------------------------------------------------------------------\u001b[0m",
      "\u001b[1;31mNameError\u001b[0m                                 Traceback (most recent call last)",
      "Cell \u001b[1;32mIn[43], line 10\u001b[0m\n\u001b[0;32m      8\u001b[0m body \u001b[38;5;241m=\u001b[39m m\u001b[38;5;241m.\u001b[39mfind(\u001b[38;5;124m'\u001b[39m\u001b[38;5;124mdiv\u001b[39m\u001b[38;5;124m'\u001b[39m, class_\u001b[38;5;241m=\u001b[39m\u001b[38;5;124m'\u001b[39m\u001b[38;5;124maccordion-body\u001b[39m\u001b[38;5;124m'\u001b[39m)\n\u001b[0;32m      9\u001b[0m desc \u001b[38;5;241m=\u001b[39m body\u001b[38;5;241m.\u001b[39mfind(\u001b[38;5;124m'\u001b[39m\u001b[38;5;124mp\u001b[39m\u001b[38;5;124m'\u001b[39m)\u001b[38;5;241m.\u001b[39mtext\n\u001b[1;32m---> 10\u001b[0m modules\u001b[38;5;241m.\u001b[39mappend(\u001b[43mModule\u001b[49m(title\u001b[38;5;241m=\u001b[39mtitle, description\u001b[38;5;241m=\u001b[39mdesc))\n",
      "\u001b[1;31mNameError\u001b[0m: name 'Module' is not defined"
     ]
    }
   ],
   "source": [
    "div = soup.find('div', id='course-module-accordion-control')\n",
    "ms = div.find_all('div', class_='accordion-item')\n",
    "modules = []\n",
    "\n",
    "for m in ms:\n",
    "    header = m.find('strong', class_='text-decoration-underline')\n",
    "    title = header.text\n",
    "    body = m.find('div', class_='accordion-body')\n",
    "    desc = body.find('p').text\n",
    "    modules.append(Module(title=title, description=desc))"
   ]
  },
  {
   "cell_type": "code",
   "execution_count": null,
   "metadata": {},
   "outputs": [],
   "source": [
    "course = Course(application, level, job_role, course_number, points, time, num_modules, modules)"
   ]
  }
 ],
 "metadata": {
  "kernelspec": {
   "display_name": ".venv",
   "language": "python",
   "name": "python3"
  },
  "language_info": {
   "codemirror_mode": {
    "name": "ipython",
    "version": 3
   },
   "file_extension": ".py",
   "mimetype": "text/x-python",
   "name": "python",
   "nbconvert_exporter": "python",
   "pygments_lexer": "ipython3",
   "version": "3.10.4"
  }
 },
 "nbformat": 4,
 "nbformat_minor": 2
}
