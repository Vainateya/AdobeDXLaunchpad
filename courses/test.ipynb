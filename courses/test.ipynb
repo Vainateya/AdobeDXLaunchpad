{
 "cells": [
  {
   "cell_type": "code",
   "execution_count": 11,
   "metadata": {},
   "outputs": [
    {
     "name": "stderr",
     "output_type": "stream",
     "text": [
      "100%|██████████| 24/24 [00:13<00:00,  1.82it/s]"
     ]
    },
    {
     "name": "stdout",
     "output_type": "stream",
     "text": [
      "24\n"
     ]
    },
    {
     "name": "stderr",
     "output_type": "stream",
     "text": [
      "\n"
     ]
    }
   ],
   "source": [
    "import requests\n",
    "from bs4 import BeautifulSoup\n",
    "import re\n",
    "from tqdm import tqdm\n",
    "\n",
    "from utils import *\n",
    "\n",
    "class Scraper:\n",
    "\n",
    "    def _clean(self, s):\n",
    "        return re.sub(r'\\s+', ' ', s).strip()\n",
    "\n",
    "    def get_course(self, link, parsed_desc=False):\n",
    "        r = requests.get(link)\n",
    "        soup = BeautifulSoup(r.content, 'html.parser')\n",
    "\n",
    "        div = soup.find('div', class_='table-responsive mb-0 mb-xl-4')\n",
    "        rows = div.find('tbody').find('tr').find_all('td')\n",
    "\n",
    "        application = self._clean(rows[0].text)\n",
    "        level = self._clean(rows[1].text)\n",
    "        job_role = self._clean(rows[2].text)\n",
    "        course_number = self._clean(rows[3].text)\n",
    "        points = int(self._clean(rows[4].text))\n",
    "        time = self._clean(rows[5].text)\n",
    "        num_modules = int(self._clean(rows[6].text))\n",
    "\n",
    "        course_objectives_under = soup.find('h4', string='Course objectives').find_next_sibling()\n",
    "        modules_above = soup.find('h4', string='Course modules').find_previous_sibling()\n",
    "\n",
    "        course_objectives = self._clean(course_objectives_under.text)\n",
    "        ul = self._clean(modules_above.text)\n",
    "        if ul != course_objectives:\n",
    "            course_objectives += ' ' + ul\n",
    "\n",
    "        div = soup.find('div', id='course-module-accordion-control')\n",
    "        ms = div.find_all('div', class_='accordion-item')\n",
    "        modules = []\n",
    "\n",
    "        for m in ms:\n",
    "            header = m.find('strong', class_='text-decoration-underline')\n",
    "            title = self._clean(header.text)\n",
    "\n",
    "            body = m.find('div', class_='accordion-body')\n",
    "            if parsed_desc:\n",
    "                desc = self._clean(body.find('p').text)\n",
    "                desc_items = m.find_all('li')\n",
    "                if len(desc_items) != 0:\n",
    "                    desc += ' '\n",
    "                    for item in desc_items:\n",
    "                        desc += self._clean(item.text) + ', '\n",
    "                    desc = desc[:-2]\n",
    "            else:\n",
    "                desc = self._clean(body.text)\n",
    "\n",
    "            modules.append(Module(title=title, description=desc))\n",
    "\n",
    "        return Course(application, level, job_role, course_number, points, time, num_modules, course_objectives, modules)\n",
    "\n",
    "scraper = Scraper()\n",
    "\n",
    "course_numbers = [\n",
    "    1043, 1045, 1046, 1047, 1048, 1049, 1050, 1054, 1055, 1056, \n",
    "    1057, 1058, 1059, 1060, 1061, 1062, 1063, 1064, 1065, 1066, \n",
    "    1067, 1068, 1069, 1221\n",
    "]\n",
    "\n",
    "courses = []\n",
    "\n",
    "for n in tqdm(course_numbers):\n",
    "    courses.append(scraper.get_course(f'https://certification.adobe.com/courses/{n}'))\n",
    "\n",
    "print(len(courses))"
   ]
  },
  {
   "cell_type": "code",
   "execution_count": 12,
   "metadata": {},
   "outputs": [
    {
     "name": "stdout",
     "output_type": "stream",
     "text": [
      "Adobe Commerce This course covers an introduction and overview of all critical components and best practices to provide you with the essential knowledge and skills required to navigate the program for the role of the Business Practitioner. Additionally, the course offers links to supplementary references, resources, and user materials, ensuring you have the necessary guidance to tackle the Certified Business Practitioner Professional exam and excel in your Adobe Commerce journey.\n",
      "Adobe Workfront This learning program is specifically designed to provide new and beginning users with a fast start in learning the basics of Adobe Workfront from intake and planning through execution and reporting. The course covers an introduction and overview of key components and best practices, while offering links to supplementary references, resources, and user materials, ensuring you have the necessary guidance to tackle the Certified Workfront Project Manager Professional exam and excel in your Adobe Workfront journey.\n",
      "Adobe Workfront This learning program is specifically designed to provide new and beginning users with a fast start in learning the basics of Adobe Workfront. The course covers an introduction and overview of key components, configuration considerations, and best practices to provide you with the essential knowledge and skills required to setup a successful Workfront implementation. Additionally, the course offers links to supplementary references, resources, and user materials, ensuring you have the necessary guidance to tackle the Certified Workfront Core Developer Professional exam and excel in your Adobe Workfront journey.\n",
      "Adobe Experience Manager This course is an introduction to Adobe Experience Manager (AEM). Learners will be introduced to key concepts, solutions, product features, and use cases related to the AEM ecosystem. This course will help you prepare for professional-level certifications in AEM.\n",
      "Adobe Workfront This course is an introduction to Adobe Workfront. Learners will be introduced to the product, key product features and use cases. Additional reference information and certification resources are also provided.\n",
      "Adobe Marketo Engage In this course, you will explore the breadth of the Adobe Marketo Engage platform and how it helps B2B brands scale personalized engagement and grow a predictable pipeline of demand and revenue by attracting the right buyers, nurturing them across channels and journey stages, prioritizing demand and insights for sales and measuring the impact on revenue.\n",
      "Adobe Analytics This course is an introduction to Adobe Analytics. You will learn the basics of digital analytics, how Analysis Workspace can be used for analysis and data visualization, typical use cases and product features. Additional reference information and certification resources are also provided.\n",
      "Adobe Experience Cloud The Adobe Experience Cloud is what powers the backbone of the Adobe suite of the digital marketing tools. Understanding how it works will help you better manage and make strategic decisions around how you setup and deploy your marketing teams for success. Security and Privacy - How Adobe deploys, secures and provides mechanisms for companies to honor and enforce customer privacy Experience Cloud ID (ECID) - An overview of what the ECID is, why it matters and how its used to help power digital experiences across web and mobile User Access Control - How companies can administrate and manage their licenses within any of the Adobe Cloud product offerings\n",
      "Adobe Experience Cloud In this module you will understand the evolution of the Adobe Experience Cloud and what lead to the creation of the Experience Platform. You'll also understand the unique challenges faced by marketing and engineering teams and the business that a centralized marketing brain provides to both organizations and customers. Describe the history behind the Adobe Experience Platform Describe why the Adobe Experience Platform was built and what problems it solves for both IT & marketing teams Be able to compare legacy and modern system approaches to marketing and customer management Describe the business value in building a single connection between IT systems and a centralized marketing brain to drive 1:1 personalized conversations across any channel at any time\n",
      "Adobe Experience Platform Welcome to the Real -Time Customer Profile Essentials module. In this module, you will be introduced to the key components that power many of the applications that sit on top of the Adobe Experience Platform. You will learn about Real-Time Customer Profile's composition and architecture that empower marketing teams to deliver personalized conversations in an omni-channel world. The Adobe Real-Time Customer Profile brings together both pseudonymous and known customer data to create a singular view of a customer for marketing purposes. This service is the heart-beat of the Experience Platform and the applications built around it. Articulate the benefits of having a Real-Time Customer Profile Identify the key structural components for how the Real-Time Customer Profile is built Describe how the Real-Time Customer Profile is assembled Explain the different Segmentation types and Audience Evaluation methods within the Real-Time Customer Profile\n",
      "Adobe Experience Cloud Welcome to the Experience Data Model (XDM) module. XDM is the foundational framework that allows Adobe Experience Cloud - powered by Adobe Experience Platform - to deliver the right message to the right person, on the right channel, at exactly the right moment. The methodology on which Adobe Experience Platform is built, XDM System, operationalizes Experience Data Model schemas for use by Platform services. In this module, you will see how XDM and the XDM system accelerate digital experiences within Adobe Experience Cloud applications and third-party platforms, and gain hands-on experience to model your own data. Outline the benefits and value of XDM for Adobe Experience Platform Define the essential building blocks used to construct an XDM schema Describe the various types of XDM descriptors and their purpose Define the various ways to manage schema evolution and best practices for schema building\n",
      "Adobe Experience Cloud Welcome to the Understanding Identity Service module. Identity Service is a key component in Adobe Experience Platform and Real-Time Customer Profile. Understanding how it works, how to use it and why it operates the way it does is critical to being successful within Adobe Experience Platform. Describe the purpose and intent of the Identity Service within Adobe Experience Platform and the Real-Time Customer Profile Describe what an identity is composed of and what identity types are used to create identity graphs Manage identity links (i.e. relationships) within the identity graph from both a creation and deletion standpoint\n",
      "Adobe Mix Modeler This course introduces Adobe Mix Modeler and its key capabilities and features. You will learn how Adobe Mix Modeler is designed to help marketers understand and optimize their marketing investments.\n",
      "Adobe Target This course introduces Adobe Target and its key capabilities and features. You will learn how Adobe Target empowers our customers to tailor and personalize their customer experiences.\n",
      "Adobe Experience Platform Welcome to the XDM & the Real-Time Customer Profile module. In this module, you will learn about how XDM plays an integral part in the construction of the Real-Time Customer Profile. Having a solid understanding of both will ensure you are successful with unlocking the full potential of Adobe Experience Platform. Define the difference between the Real-Time Customer Profile's primary entity vs. dimensional entity classes Describe what is required of each class when wanting to be used within the Real-Time Customer Profile Explain the various ways an identity can be modeled in XDM so that the Real-Time Customer Profile can leverage it Describe how to create relationships between primary entity schemas and XDM ad-hoc schema classes Describe the process to enable a schema for profile as well as the prerequisites and constraints after doing so\n",
      "Adobe Customer Journey Analytics Adobe Customer Journey Analytics, part of Adobe Experience Platform, enables real-time analysis and visualization of customer data from multiple channels. It combines online and offline data for a comprehensive view, offering cross-channel analysis, real-time processing, and AI-driven insights to optimize customer experiences and support data-driven decisions.\n",
      "Adobe Commerce Elevate your Adobe Commerce development skills with our comprehensive Adobe Commerce Developer Course, now updated to include the latest advancements in extensibility, microservices, and developer experience. This course is designed for both novice and experienced developers looking to deepen their expertise and stay ahead in the ever-evolving e-commerce landscape.\n",
      "Adobe Experience Manager Adobe Experience Manager Sites is the industry-leading content management system that empowers any marketer or developer to create high-performance pages across any digital property — from web to mobile to apps. \n",
      "Adobe Journey Optimizer This course is an introduction to Adobe Journey Optimizer. Learners will explore elevating customer engagement initiatives, fostering meaningful interactions, and becoming proficient in Adobe Journey Optimizer. This course will help you prepare for the Adobe Journey Optimizer Professional exam. Please note that each module is separate. The system will track your progression through the course. Still, you must select each separate module, complete it, and then move to the next module. Once all the modules in this course are completed, you will earn your course completion certificate.\n",
      "Adobe Journey Optimizer At the conclusion of this course, you will be able to:​ Discuss the importance of customer journey management​ Recognize the Adobe Journey Optimizer workspace​ Outline the process for email campaigns using Adobe Journey Optimizer​ Explain how brands use data in their campaigns\n",
      "Adobe Journey Optimizer After completing this course you will be able to: Differentiate between batch, streaming and edge segments to optimize data handling strategies Implement A/B testing features to refine and enhance marketing campaigns effectively Utilize contextual attributes for impactful content manipulation and validate messages proficiently Implement personalized actions and comprehend the nuances of Journey Optimizer specific APIs Implement custom action tracking capabilities Attain proficiency in querying Journey Optimizer specific datasets and debug journeys effectively Manage user permissions, configure channels, and track parameters for effective UTM tracking\n",
      "Adobe Commerce This course provides foundational training covering essential product basics, program functionality, critical use cases, and real-world testimonials. Whether you're new to e-commerce or an experienced user, this course supplies you with the knowledge and insights needed to understand the dynamic world of Adobe Commerce. Just so you know, each module is separate. The system will track your progression through the course. Still, you must select each separate module, complete it, and then move to the next module. Once all the modules in this course are completed, you will earn your course completion certificate.\n",
      "Adobe Experience Cloud In this course, learners will be introduced to Adobe Experience Cloud, an end-to-end suite of digital marketing tools built on the only platform designed for personalization at scale. Question about this course? Visit the community forum.\n",
      " This course is an introduction to Adobe Firefly, Firefly Custom Models and Firefly Services. Learners will be given a quick overview of Adobe Firefly, learn about Firefly Custom Models and learn about Firefly Services including the Firefly APIs and SDK.\n"
     ]
    }
   ],
   "source": [
    "for i in courses:\n",
    "    print(i.application, i.objectives)"
   ]
  }
 ],
 "metadata": {
  "kernelspec": {
   "display_name": ".venv",
   "language": "python",
   "name": "python3"
  },
  "language_info": {
   "codemirror_mode": {
    "name": "ipython",
    "version": 3
   },
   "file_extension": ".py",
   "mimetype": "text/x-python",
   "name": "python",
   "nbconvert_exporter": "python",
   "pygments_lexer": "ipython3",
   "version": "3.10.4"
  }
 },
 "nbformat": 4,
 "nbformat_minor": 2
}
