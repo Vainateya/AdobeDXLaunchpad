{
 "cells": [
  {
   "cell_type": "code",
   "execution_count": 3,
   "metadata": {},
   "outputs": [],
   "source": [
    "from langchain_community.embeddings import HuggingFaceEmbeddings\n",
    "from tqdm import tqdm\n",
    "import numpy as np\n",
    "import networkx as nx\n",
    "from sklearn.metrics.pairwise import cosine_similarity\n",
    "import matplotlib.pyplot as plt\n",
    "from bs4 import BeautifulSoup\n",
    "import os\n",
    "import streamlit as st\n",
    "\n",
    "from utils import *"
   ]
  },
  {
   "cell_type": "code",
   "execution_count": 4,
   "metadata": {},
   "outputs": [
    {
     "name": "stderr",
     "output_type": "stream",
     "text": [
      "100%|██████████| 24/24 [00:14<00:00,  1.64it/s]\n"
     ]
    },
    {
     "name": "stdout",
     "output_type": "stream",
     "text": [
      "24\n"
     ]
    },
    {
     "name": "stderr",
     "output_type": "stream",
     "text": [
      "100%|██████████| 54/54 [00:15<00:00,  3.45it/s]\n"
     ]
    }
   ],
   "source": [
    "courses = []\n",
    "certificates = []\n",
    "\n",
    "course_numbers = [\n",
    "    1043, 1045, 1046, 1047, 1048, 1049, 1050, 1054, 1055, 1056, \n",
    "    1057, 1058, 1059, 1060, 1061, 1062, 1063, 1064, 1065, 1066, \n",
    "    1067, 1068, 1069, 1221\n",
    "]\n",
    "\n",
    "for n in tqdm(course_numbers):\n",
    "    new_course = Course(f'https://certification.adobe.com/courses/{n}')\n",
    "    courses.append(new_course)\n",
    "\n",
    "print(len(courses))\n",
    "\n",
    "certificate_htmls_location = 'certificate_htmls'\n",
    "\n",
    "for html in tqdm(os.listdir(certificate_htmls_location)):\n",
    "    certificate = Certificate(f'{certificate_htmls_location}/{html}')\n",
    "    certificates.append(certificate)"
   ]
  },
  {
   "cell_type": "code",
   "execution_count": 20,
   "metadata": {},
   "outputs": [],
   "source": [
    "def create_graph(course_name):\n",
    "    H = nx.DiGraph()\n",
    "\n",
    "    sources = [node for node in courses + certificates if node.category == course_name]\n",
    "\n",
    "    for src in sources:\n",
    "        H.add_node(src)\n",
    "\n",
    "    for i, src1 in enumerate(sources):\n",
    "        for j, src2 in enumerate(sources):\n",
    "            if i == j:\n",
    "                continue\n",
    "            if src1.is_prereq_to(src2):\n",
    "                H.add_edge(src1, src2, color='black')\n",
    "    return H\n",
    "\n",
    "def graph_to_2d_array(G):\n",
    "    root_nodes = [n for n in G.nodes if G.in_degree(n) == 0]\n",
    "\n",
    "    row_map = {}\n",
    "    queue = [(node, 0) for node in root_nodes]\n",
    "\n",
    "    while queue:\n",
    "        node, row = queue.pop(0)\n",
    "\n",
    "        if node in row_map:\n",
    "            row = max(row, row_map[node])\n",
    "        row_map[node] = row\n",
    "\n",
    "        for child in G.successors(node):\n",
    "            if child in row_map:\n",
    "                row_map[child] = max(row_map[child], row + 1)\n",
    "            else:\n",
    "                row_map[child] = row + 1\n",
    "            queue.append((child, row_map[child]))\n",
    "\n",
    "    max_row = max(row_map.values())\n",
    "    graph_2d = [[] for _ in range(max_row + 1)]\n",
    "\n",
    "    for node, row in row_map.items():\n",
    "        if type(node) == Course:\n",
    "            node_type = 'course'\n",
    "            desc = f'Course objectives: {node.objectives}'\n",
    "        else:\n",
    "            node_type = 'certificate'\n",
    "            desc = f'Prerequisites: {node.prereq}'\n",
    "        graph_2d[row].append({'type': node_type, 'display': node.display, 'description': desc})\n",
    "\n",
    "    edges_2d = []\n",
    "    for u, v in G.edges():\n",
    "        if row_map[u] < row_map[v]:  # Ensure edges go downward\n",
    "            edges_2d.append({'from': u.display, 'to': v.display})\n",
    "\n",
    "    return graph_2d, edges_2d"
   ]
  },
  {
   "cell_type": "code",
   "execution_count": 21,
   "metadata": {},
   "outputs": [],
   "source": [
    "course_category = 'Adobe Commerce'\n",
    "\n",
    "G = create_graph(course_category)\n",
    "nodes, edges = graph_to_2d_array(G)"
   ]
  },
  {
   "cell_type": "code",
   "execution_count": 39,
   "metadata": {},
   "outputs": [],
   "source": [
    "def flatten(l):\n",
    "    return [\n",
    "        src\n",
    "        for row in l\n",
    "        for src in row \n",
    "    ]\n",
    "\n",
    "def display_nodes(nodes):\n",
    "    res = 'The relevant sources (nodes) are as follows: \\n'\n",
    "    for src in flatten(nodes):\n",
    "        res += f'{src[\"type\"]} - {src[\"display\"]} - {src[\"description\"]}\\n'\n",
    "    return res\n",
    "\n",
    "def display_edges(edges):\n",
    "    res = 'These nodes are connected via a directed edge as follows: \\n'\n",
    "    for edge in edges:\n",
    "        res += f'From: {edge[\"from\"]}, To: {edge[\"to\"]}\\n'\n",
    "    return res\n",
    "\n",
    "def get_full_string(nodes, edges):\n",
    "    return display_nodes(nodes) + display_edges(edges)"
   ]
  },
  {
   "cell_type": "code",
   "execution_count": 40,
   "metadata": {},
   "outputs": [
    {
     "data": {
      "text/plain": [
       "\"The relevant sources (nodes) are as follows: \\ncourse - Adobe Commerce Foundations - Course objectives: This course provides foundational training covering essential product basics, program functionality, critical use cases, and real-world testimonials. Whether you're new to e-commerce or an experienced user, this course supplies you with the knowledge and insights needed to understand the dynamic world of Adobe Commerce. Just so you know, each module is separate. The system will track your progression through the course. Still, you must select each separate module, complete it, and then move to the next module. Once all the modules in this course are completed, you will earn your course completion certificate.\\ncertificate - Adobe Commerce Business Practitioner Professional - Prerequisites: You should have a minimum of 0-12 months hands-on experience with Magento Open Source version 2.4.3 using the LUMA or BLANK theme and basic understanding of Adobe Commerce version 2.4.3., Additionally, you should have a basic understanding of the eCommerce experience, as well as familiarity with the following concepts:, Digital marketing (SEO, CMS, email marketing, sales techniques [cross-sell, upsell], analytics, reporting, and monitoring), Ecommerce terminology (sales/marketing strategies like omnichannel and multichannel), Pricing and promotion, Customer purchase journey, Order life cycle, Magento Marketplace and third-party extensions, Security and compliance (GDPR, ADA, PCI DSS v3.2.1, PSD2), Pricing and promotion\\ncertificate - Adobe Commerce Developer Professional (NEW) - Prerequisites: You should have atleast six months to a year of hands-on experience with Adobe Commerce., You should have a basic understanding of Adobe Commerce development, architecture, EAV/database, checkout and sales, catalog, and admin UI., Additionally, you should be familiar with the following technologies and environments:, Adobe Commerce - version 2.4.7, Good understanding of PHP, Knowledge of MYSQL, Knowledge of Object-Oriented Programming, Knowledge of Cloud Architecture, Design patterns used in Adobe Commerce\\ncourse - Adobe Commerce Business Practitioner - Professional - Course objectives: This course covers an introduction and overview of all critical components and best practices to provide you with the essential knowledge and skills required to navigate the program for the role of the Business Practitioner. Additionally, the course offers links to supplementary references, resources, and user materials, ensuring you have the necessary guidance to tackle the Certified Business Practitioner Professional exam and excel in your Adobe Commerce journey.\\ncourse - Adobe Commerce for Developers - Professional - Course objectives: Elevate your Adobe Commerce development skills with our comprehensive Adobe Commerce Developer Course, now updated to include the latest advancements in extensibility, microservices, and developer experience. This course is designed for both novice and experienced developers looking to deepen their expertise and stay ahead in the ever-evolving e-commerce landscape.\\ncertificate - Adobe Commerce Business Practitioner Expert - Prerequisites: You should have approximately 1-3 years of hands-on Commerce experience and a broad understanding of the e-commerce experience., You should have experience in:, Digital marketing: SEO, CMS, sales techniques like cross-selling and up-selling, understanding Google Analytics, email templates, Security, compliance, and privacy laws, such as PCI, GDPR, ADA, CAN-SPAM, PSD2, Sales/marketing strategies like omnichannel and multichannel, Experience in project management, requirements gathering, integration flows, general e-commerce laws, software development methodologies, and monitoring, Understanding of business, commerce/e-commerce, and logistics, Basic understanding of customizable applications, cloud, and server infrastructure, Modern e-commerce terminology, Additionally, you should be comfortable using the following technologies:, Adobe Commerce - version 2.4, Analytics and performance tools: Google Analytics, tag manager, SWAT, New Relic, Fastly, Google Lighthouse, Security tools: PCI compliance, ADA, GDPR, and so on, Cloud or on-premise architecture\\ncertificate - Adobe Commerce Developer Expert (NEW) - Prerequisites: You should have at least 2 years’ hands-on experience with Adobe Commerce, strong programming skills, and some experience with App Builder. They should have the ability to translate the needs expressed by task requirements into a technical solution., This exam is based on (Adobe Commerce v2.4.7)., A candidate should have experience with and/or knowledge of:, Adobe Commerce, Adobe Commerce Coding Standards Technical Guidelines (https://developer.adobe.com/commerce/php/coding-standards/technical-guidelines/), relational databases, the basic functions of both a web browser and server and how they communicate with one another, performance optimization and analysis as it relates to software, general understanding of the build and delivery process for Adobe Commerce, the built-in features/functionality of the application that may allow solutions without additional development, basic knowledge of Front-end and (i.e., HTML, CSS, LESS, PHP, , XML, MySQL), working knowledge of Javascript, PHP, and Back-end Adobe Commerce technologies\\ncertificate - Adobe Commerce Architect Master - Prerequisites: You should have at least 3-5 year experience leading Commerce development projects and are able to design, integrate, implement, and explain solutions to business problems by utilizing Adobe Commerce along with associated services., Additionally, you should be very familiar with the following activities and technologies:, Extend core features, Configure Adobe Commerce fully, Create full blueprint of how an extension should work, requirements of company to blueprint of how it should work, without having to go into the code, Understand business needs/features, Performance implications of solutions and extensions, Service contracts logic, GraphQL, Understand Composer as a dependency tool, Set up and configure working instance of Adobe Adobe Commerce from scratch, Customize admin dashboard, creating grids and forms, Cache and index management; creating custom index, Create new cache type, Troubleshoot and debug various problems in environment, Extend and manage database schema, Security features, provide secure installation and development extension, Perform server-based services which Adobe Commerce connects (Redis, Varnish configuration management), Aware of best coding standard practice, Coding standards, PSR, SOLID principle, Set up and use Adobe Commerce Services Connector (and associated services)Staging content managementUnderstanding Adobe Commerce defaults, when it is available and not availableBroad grasp of any related Adobe Commerce domainDesign project architectureOptimize performance of Adobe Commerce defaultCreating and modifying B2BAMQP protocol and adapters in Adobe Commerce (S3), Staging content management, Understanding Adobe Commerce defaults, when it is available and not available, Broad grasp of any related Adobe Commerce domain, Design project architecture, Optimize performance of Adobe Commerce default, Creating and modifying B2B, AMQP protocol and adapters in Adobe Commerce (S3)\\nThese nodes are connected via a directed edge as follows: \\nFrom: Adobe Commerce Business Practitioner - Professional, To: Adobe Commerce Architect Master\\nFrom: Adobe Commerce Business Practitioner - Professional, To: Adobe Commerce Business Practitioner Expert\\nFrom: Adobe Commerce Business Practitioner - Professional, To: Adobe Commerce Developer Expert (NEW)\\nFrom: Adobe Commerce for Developers - Professional, To: Adobe Commerce Architect Master\\nFrom: Adobe Commerce for Developers - Professional, To: Adobe Commerce Business Practitioner Expert\\nFrom: Adobe Commerce for Developers - Professional, To: Adobe Commerce Developer Expert (NEW)\\nFrom: Adobe Commerce Foundations, To: Adobe Commerce Business Practitioner - Professional\\nFrom: Adobe Commerce Foundations, To: Adobe Commerce for Developers - Professional\\nFrom: Adobe Commerce Foundations, To: Adobe Commerce Architect Master\\nFrom: Adobe Commerce Foundations, To: Adobe Commerce Business Practitioner Expert\\nFrom: Adobe Commerce Foundations, To: Adobe Commerce Business Practitioner Professional\\nFrom: Adobe Commerce Foundations, To: Adobe Commerce Developer Expert (NEW)\\nFrom: Adobe Commerce Foundations, To: Adobe Commerce Developer Professional (NEW)\\nFrom: Adobe Commerce Business Practitioner Expert, To: Adobe Commerce Architect Master\\nFrom: Adobe Commerce Business Practitioner Professional, To: Adobe Commerce Business Practitioner - Professional\\nFrom: Adobe Commerce Business Practitioner Professional, To: Adobe Commerce for Developers - Professional\\nFrom: Adobe Commerce Business Practitioner Professional, To: Adobe Commerce Business Practitioner Expert\\nFrom: Adobe Commerce Business Practitioner Professional, To: Adobe Commerce Developer Expert (NEW)\\nFrom: Adobe Commerce Developer Expert (NEW), To: Adobe Commerce Architect Master\\nFrom: Adobe Commerce Developer Professional (NEW), To: Adobe Commerce Business Practitioner - Professional\\nFrom: Adobe Commerce Developer Professional (NEW), To: Adobe Commerce for Developers - Professional\\nFrom: Adobe Commerce Developer Professional (NEW), To: Adobe Commerce Business Practitioner Expert\\nFrom: Adobe Commerce Developer Professional (NEW), To: Adobe Commerce Developer Expert (NEW)\\n\""
      ]
     },
     "execution_count": 40,
     "metadata": {},
     "output_type": "execute_result"
    }
   ],
   "source": [
    "get_full_string(nodes, edges)"
   ]
  }
 ],
 "metadata": {
  "kernelspec": {
   "display_name": ".venv",
   "language": "python",
   "name": "python3"
  },
  "language_info": {
   "codemirror_mode": {
    "name": "ipython",
    "version": 3
   },
   "file_extension": ".py",
   "mimetype": "text/x-python",
   "name": "python",
   "nbconvert_exporter": "python",
   "pygments_lexer": "ipython3",
   "version": "3.10.4"
  }
 },
 "nbformat": 4,
 "nbformat_minor": 2
}
