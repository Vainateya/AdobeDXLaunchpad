{
 "cells": [
  {
   "cell_type": "code",
   "execution_count": 1,
   "metadata": {},
   "outputs": [],
   "source": [
    "# !pip install tqdm numpy scikit-learn networkx bs4 matplotlib requests rank_bm25 openai faiss-cpu python-dotenv"
   ]
  },
  {
   "cell_type": "code",
   "execution_count": 2,
   "metadata": {},
   "outputs": [
    {
     "name": "stderr",
     "output_type": "stream",
     "text": [
      "/Users/raffukhondaker/Projects/mlatuva/adobe/.venv/lib/python3.9/site-packages/urllib3/__init__.py:35: NotOpenSSLWarning: urllib3 v2 only supports OpenSSL 1.1.1+, currently the 'ssl' module is compiled with 'LibreSSL 2.8.3'. See: https://github.com/urllib3/urllib3/issues/3020\n",
      "  warnings.warn(\n"
     ]
    }
   ],
   "source": [
    "from tqdm import tqdm\n",
    "import numpy as np\n",
    "import networkx as nx\n",
    "from sklearn.metrics.pairwise import cosine_similarity\n",
    "import matplotlib.pyplot as plt\n",
    "from bs4 import BeautifulSoup\n",
    "import os\n",
    "\n",
    "from rank_bm25 import BM25Okapi\n",
    "from openai import OpenAI\n",
    "import faiss\n",
    "from dotenv import load_dotenv\n",
    "\n",
    "from utils import *"
   ]
  },
  {
   "cell_type": "code",
   "execution_count": 3,
   "metadata": {},
   "outputs": [
    {
     "name": "stderr",
     "output_type": "stream",
     "text": [
      "  0%|          | 0/54 [00:00<?, ?it/s]"
     ]
    },
    {
     "name": "stderr",
     "output_type": "stream",
     "text": [
      "100%|██████████| 54/54 [00:01<00:00, 32.25it/s]\n",
      "100%|██████████| 24/24 [00:11<00:00,  2.02it/s]\n"
     ]
    }
   ],
   "source": [
    "course_numbers = [\n",
    "    1043, 1045, 1046, 1047, 1048, 1049, 1050, 1054, 1055, 1056, \n",
    "    1057, 1058, 1059, 1060, 1061, 1062, 1063, 1064, 1065, 1066, \n",
    "    1067, 1068, 1069, 1221\n",
    "]\n",
    "\n",
    "courses = []\n",
    "certificates = []\n",
    "certificate_htmls_location = 'certificate_htmls'\n",
    "\n",
    "for html in tqdm(os.listdir(certificate_htmls_location)):\n",
    "    certificate = Certificate(f'{certificate_htmls_location}/{html}')\n",
    "    certificates.append(certificate)\n",
    "    \n",
    "for n in tqdm(course_numbers):\n",
    "    new_course = Course(f'https://certification.adobe.com/courses/{n}')\n",
    "    courses.append(new_course)\n",
    "\n"
   ]
  },
  {
   "cell_type": "code",
   "execution_count": 4,
   "metadata": {},
   "outputs": [],
   "source": [
    "documents = []\n",
    "doc2source: dict[str, Source] = {}\n",
    "\n",
    "for i, course in enumerate(courses):\n",
    "    documents.append(course.to_text())\n",
    "    doc2source[course.to_text()] = course\n",
    "\n",
    "for i, cert in enumerate(certificates):\n",
    "    documents.append(cert.to_text())\n",
    "    doc2source[cert.to_text()] = cert\n"
   ]
  },
  {
   "cell_type": "code",
   "execution_count": 5,
   "metadata": {},
   "outputs": [],
   "source": [
    "load_dotenv()\n",
    "\n",
    "openai_api_key = os.getenv(\"OPENAI_API_KEY\")\n",
    "\n",
    "# documents = [\n",
    "#     \"Neural networks are a key part of deep learning.\",\n",
    "#     \"BM25 is a ranking function used in search engines.\",\n",
    "#     \"Reinforcement learning is used in decision-making.\",\n",
    "#     \"Graph neural networks process graph-structured data.\"\n",
    "# ]\n",
    "\n",
    "# Keyword Search\n",
    "tokenized_corpus = [doc.split() for doc in documents]\n",
    "bm25 = BM25Okapi(tokenized_corpus)\n",
    "\n",
    "# Semantic Search\n",
    "client = OpenAI(api_key=openai_api_key)\n",
    "\n",
    "def get_embedding(text):\n",
    "    return client.embeddings.create(input=text, model=\"text-embedding-ada-002\").data[0].embedding\n",
    "\n",
    "embeddings = np.array([get_embedding(doc) for doc in documents])\n",
    "d = embeddings.shape[1]  # Embedding dimension\n",
    "index = faiss.IndexFlatL2(d)\n",
    "index.add(embeddings)"
   ]
  },
  {
   "cell_type": "code",
   "execution_count": null,
   "metadata": {},
   "outputs": [
    {
     "name": "stdout",
     "output_type": "stream",
     "text": [
      "1. Adobe Campaign Classic Developer Professional (Type: certificate) (Score: 0.0296)\n",
      "2. Adobe Experience Manager Foundations (Type: course) (Score: 0.0294)\n",
      "3. Adobe Workfront Project Manager Professional (Type: certificate) (Score: 0.0164)\n",
      "4. Adobe Experience Manager Technical Foundations Professional (Type: certificate) (Score: 0.0164)\n",
      "5. Adobe Workfront Core Developer Expert (Type: certificate) (Score: 0.0161)\n",
      "6. Adobe Captivate Certified Professional (Type: certificate) (Score: 0.0161)\n",
      "7. Adobe Advertising DSP Business Practitioner Professional (Type: certificate) (Score: 0.0159)\n",
      "8. Adobe Commerce Front-End Developer Expert (NEW) (Type: certificate) (Score: 0.0159)\n",
      "9. Adobe Commerce for Developers - Professional (Type: course) (Score: 0.0156)\n",
      "10. Adobe Experience Manager Sites Developer Professional (NEW) (Type: certificate) (Score: 0.0156)\n",
      "11. Adobe Workfront for Experience Manager Enhanced Connector Expert (Type: certificate) (Score: 0.0154)\n",
      "12. Adobe Campaign Classic Developer Expert (Type: certificate) (Score: 0.0154)\n",
      "13. Firefly Custom Models and Services Foundations (Type: course) (Score: 0.0152)\n",
      "14. Adobe Commerce Foundations (Type: course) (Score: 0.0149)\n",
      "15. Adobe Experience Manager Business Practitioner Professional (Type: certificate) (Score: 0.0147)\n",
      "16. Adobe Experience Manager Sites Business Practitioner Expert (Type: certificate) (Score: 0.0145)\n",
      "17. Adobe Commerce Developer Professional (NEW) (Type: certificate) (Score: 0.0145)\n",
      "18. Adobe Commerce Developer Expert (NEW) (Type: certificate) (Score: 0.0143)\n"
     ]
    }
   ],
   "source": [
    "def rrf_fusion(results, k=30):\n",
    "    \"\"\"\n",
    "    Computes Reciprocal Rank Fusion (RRF) for multiple ranked lists.\n",
    "    \n",
    "    :param results: Dict of {method_name: {doc_id: rank_position}}\n",
    "    :param k: Small constant (default: 60) for score scaling.\n",
    "    :return: Sorted list of (document_id, RRF score).\n",
    "    \"\"\"\n",
    "    rrf_scores = {}\n",
    "\n",
    "    for method, ranked_docs in results.items():\n",
    "        for doc_id, rank in ranked_docs.items():\n",
    "            if doc_id not in rrf_scores:\n",
    "                rrf_scores[doc_id] = 0\n",
    "            rrf_scores[doc_id] += 1 / (k + rank)\n",
    "\n",
    "    return sorted(rrf_scores.items(), key=lambda x: x[1], reverse=True)\n",
    "\n",
    "\n",
    "def keyword_search(query: str, bm25: BM25Okapi, top_n=10) -> dict[int, int]:\n",
    "    \"\"\"\n",
    "    Perform BM25 keyword search and return ranked results.\n",
    "    \"\"\"\n",
    "    tokenized_query = query.split()\n",
    "    bm25_scores = bm25.get_scores(tokenized_query)\n",
    "    bm25_top_n = np.argsort(bm25_scores)[::-1][:top_n]  # Get top BM25 results\n",
    "\n",
    "    return {i.item(): rank+1 for rank, i in enumerate(bm25_top_n)}  # Rank position starts from 1\n",
    "\n",
    "\n",
    "def semantic_search(query: str, index: faiss.IndexFlatL2, top_n=10) -> dict[int, int]:\n",
    "    \"\"\"\n",
    "    Perform FAISS vector search and return ranked results.\n",
    "    \"\"\"\n",
    "    query_embedding = np.array(get_embedding(query)).reshape(1, -1)\n",
    "    _, vector_top_n = index.search(query_embedding, top_n)  # Retrieve top vector matches\n",
    "\n",
    "    return {i.item(): rank+1 for rank, i in enumerate(vector_top_n[0])}  # Rank position starts from 1\n",
    "\n",
    "\n",
    "def hybrid_search(query, bm25: BM25Okapi, index: faiss.IndexFlatL2, top_n=10, k=60):\n",
    "    \"\"\"\n",
    "    Perform hybrid search using Reciprocal Rank Fusion (RRF).\n",
    "    \"\"\"\n",
    "    bm25_results = keyword_search(query, bm25, top_n=top_n)\n",
    "    vector_results = semantic_search(query, index, top_n=top_n)\n",
    "\n",
    "    rrf_results = rrf_fusion({\"BM25\": bm25_results, \"Vector\": vector_results}, k=k)\n",
    "\n",
    "    return [(documents[i], score) for i, score in rrf_results]\n",
    "\n",
    "\n",
    "query = \"What courses are good for beginner programmers?\"\n",
    "results = hybrid_search(query, bm25, index)\n",
    "\n",
    "for rank, (doc, score) in enumerate(results, 1):\n",
    "    source = doc2source[doc]\n",
    "    print(f\"{rank}. { source.display} (type: {source.type}) (Score: {score:.4f})\")\n"
   ]
  }
 ],
 "metadata": {
  "kernelspec": {
   "display_name": ".venv",
   "language": "python",
   "name": "python3"
  },
  "language_info": {
   "codemirror_mode": {
    "name": "ipython",
    "version": 3
   },
   "file_extension": ".py",
   "mimetype": "text/x-python",
   "name": "python",
   "nbconvert_exporter": "python",
   "pygments_lexer": "ipython3",
   "version": "3.9.6"
  }
 },
 "nbformat": 4,
 "nbformat_minor": 2
}
